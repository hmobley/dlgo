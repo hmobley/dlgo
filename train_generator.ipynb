{
 "cells": [
  {
   "cell_type": "code",
   "execution_count": null,
   "metadata": {},
   "outputs": [],
   "source": [
    "from tensorflow import keras\n",
    "from tensorflow.keras.models import Sequential\n",
    "from tensorflow.keras.layers import Dense\n",
    "from tensorflow.keras.callbacks import ModelCheckpoint"
   ]
  },
  {
   "cell_type": "code",
   "execution_count": null,
   "metadata": {},
   "outputs": [],
   "source": [
    "from dlgo.data.parallel_processor import GoDataProcessor\n",
    "from dlgo.encoders.oneplane import OnePlaneEncoder\n",
    "from dlgo.networks import small"
   ]
  },
  {
   "cell_type": "code",
   "execution_count": null,
   "metadata": {},
   "outputs": [],
   "source": [
    "go_board_rows, go_board_cols = 19,19\n",
    "num_classes = go_board_rows * go_board_cols\n",
    "#num_games = 20000\n",
    "num_games = 100\n",
    "#num_games = 8000\n",
    "#num_games = 1000\n",
    "\n",
    "encoder = OnePlaneEncoder((go_board_rows,go_board_cols))\n",
    "\n",
    "processor = GoDataProcessor(encoder=encoder.name())\n",
    "\n",
    "generator = processor.load_go_data('train',num_games,use_generator=True)\n",
    "test_generator = processor.load_go_data('test',num_games,use_generator=True)\n",
    "\n",
    "# g = generator.generate()\n",
    "# count = 0\n",
    "# for row in g:\n",
    "#     # row[0].shape (128,19,19,1) NWHC, channels last\n",
    "#     # this is input to model, it retreives via the generator\n",
    "#     # row[1].shape (128,361) categorical output, 1 move on the 19x19=361 space board\n",
    "#     # this is the ground truth label output for the given input\n",
    "#     #so 19x19x1 input (in 128 batches) with an output of 361\n",
    "#     # 19x19x1 -> 361, one-hot\n",
    "#     print(\"type(row): {}, type(row[0]): {}, type(row[1]): {}\".format(type(row),type(row[0]),type(row[1])))\n",
    "#     #print(\"row: {}\".format(row))\n",
    "#     print(\"shape 0: {}, shape 1: {}\".format((row[0]).shape,(row[1]).shape))\n",
    "#     count += 1\n",
    "#     if count > 2:\n",
    "#         break\n",
    "\n",
    "#input_shape = (encoder.num_planes, go_board_rows, go_board_cols)\n",
    "input_shape = (go_board_rows, go_board_cols, encoder.num_planes)\n",
    "network_layers = small.layers(input_shape)\n",
    "model = Sequential()\n",
    "for layer in network_layers:\n",
    "    model.add(layer)\n",
    "model.add(Dense(num_classes, activation='softmax'))\n",
    "model.summary()\n",
    "\n",
    "epochs = 5\n",
    "batch_size = 128\n",
    "print(\"num samples: {}, batch_size: {}, num/batch: {}\".format(generator.get_num_samples(),batch_size,generator.get_num_samples() / batch_size))\n",
    "#model.compile(\"sgd\",\"mean_squared_error\")\n",
    "model.compile(loss=\"categorical_crossentropy\",optimizer=\"sgd\",\n",
    "                metrics=['accuracy'])\n",
    "model.fit(generator.generate(batch_size, num_classes),\n",
    "                epochs=epochs,\n",
    "                #steps_per_epoch=generator.get_num_samples() / batch_size,\n",
    "                steps_per_epoch=12288,\n",
    "                validation_data=test_generator.generate(batch_size, num_classes),\n",
    "                validation_steps=test_generator.get_num_samples() / batch_size,\n",
    "                callbacks=[ModelCheckpoint('../checkpoints/small_model_epoch_{epoch}.h5')])\n",
    "model.evaluate(test_generator.generate(batch_size, num_classes),\n",
    "                #steps=test_generator.get_num_samples() / batch_size)\n",
    "                steps=12288)\n",
    "\n",
    "# model.fit_generator(generator=generator.generate(batch_size, num_classes),\n",
    "#                 epochs=epochs,\n",
    "#                 steps_per_epoch=generator.get_num_samples() / batch_size,\n",
    "#                 validation_data=test_generator.generate(batch_size, num_classes),\n",
    "#                 validation_steps=test_generator.get_num_samples() / batch_size,\n",
    "#                 callbacks=[ModelCheckpoint('../checkpoints/small_model_epoch_{epoch}.h5')])\n",
    "# model.evaluate_generator(generator=test_generator.generate(batch_size, num_classes),\n",
    "#                 steps=test_generator.get_num_samples() / batch_size)\n"
   ]
  }
 ],
 "metadata": {
  "kernelspec": {
   "display_name": "Python 3",
   "language": "python",
   "name": "python3"
  },
  "language_info": {
   "codemirror_mode": {
    "name": "ipython",
    "version": 3
   },
   "file_extension": ".py",
   "mimetype": "text/x-python",
   "name": "python",
   "nbconvert_exporter": "python",
   "pygments_lexer": "ipython3",
   "version": "3.8.3"
  }
 },
 "nbformat": 4,
 "nbformat_minor": 4
}
